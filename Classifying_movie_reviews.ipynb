{
  "nbformat": 4,
  "nbformat_minor": 0,
  "metadata": {
    "kernelspec": {
      "display_name": "Python 3",
      "language": "python",
      "name": "python3"
    },
    "language_info": {
      "codemirror_mode": {
        "name": "ipython",
        "version": 3
      },
      "file_extension": ".py",
      "mimetype": "text/x-python",
      "name": "python",
      "nbconvert_exporter": "python",
      "pygments_lexer": "ipython3",
      "version": "3.7.3"
    },
    "colab": {
      "name": "Classifying movie reviews.ipynb",
      "provenance": [],
      "include_colab_link": true
    }
  },
  "cells": [
    {
      "cell_type": "markdown",
      "metadata": {
        "id": "view-in-github",
        "colab_type": "text"
      },
      "source": [
        "<a href=\"https://colab.research.google.com/github/ebrahimisoheil/IMDB-Review-Classifying-Keras/blob/master/Classifying_movie_reviews.ipynb\" target=\"_parent\"><img src=\"https://colab.research.google.com/assets/colab-badge.svg\" alt=\"Open In Colab\"/></a>"
      ]
    },
    {
      "cell_type": "markdown",
      "metadata": {
        "id": "PiZPoLs6ZNHb",
        "colab_type": "text"
      },
      "source": [
        "## **A set of 50,000 highly polarized reviews from the Internet Movie Database. They’re split into 25,000 reviews for training and 25000 reviews for testing, each set consisting of 50% negative and 50% positive reviews.** "
      ]
    },
    {
      "cell_type": "markdown",
      "metadata": {
        "id": "4qV0x66KeITG",
        "colab_type": "text"
      },
      "source": [
        "### Loading the IMDB Dataset\n",
        "import dataset from keras builtin datasets and split it into train and test\n",
        "\n"
      ]
    },
    {
      "cell_type": "code",
      "metadata": {
        "id": "gCSauzF0ZNHe",
        "colab_type": "code",
        "outputId": "e19713c4-196b-4061-e7bc-bf73d986faf3",
        "colab": {
          "base_uri": "https://localhost:8080/",
          "height": 114
        }
      },
      "source": [
        "from keras.datasets import imdb\n",
        "(train_data, train_labels), (test_data, test_labels) = imdb.load_data(num_words=10000)"
      ],
      "execution_count": 0,
      "outputs": [
        {
          "output_type": "stream",
          "text": [
            "Using TensorFlow backend.\n"
          ],
          "name": "stderr"
        },
        {
          "output_type": "display_data",
          "data": {
            "text/html": [
              "<p style=\"color: red;\">\n",
              "The default version of TensorFlow in Colab will soon switch to TensorFlow 2.x.<br>\n",
              "We recommend you <a href=\"https://www.tensorflow.org/guide/migrate\" target=\"_blank\">upgrade</a> now \n",
              "or ensure your notebook will continue to use TensorFlow 1.x via the <code>%tensorflow_version 1.x</code> magic:\n",
              "<a href=\"https://colab.research.google.com/notebooks/tensorflow_version.ipynb\" target=\"_blank\">more info</a>.</p>\n"
            ],
            "text/plain": [
              "<IPython.core.display.HTML object>"
            ]
          },
          "metadata": {
            "tags": []
          }
        },
        {
          "output_type": "stream",
          "text": [
            "Downloading data from https://s3.amazonaws.com/text-datasets/imdb.npz\n",
            "17465344/17464789 [==============================] - 1s 0us/step\n"
          ],
          "name": "stdout"
        }
      ]
    },
    {
      "cell_type": "markdown",
      "metadata": {
        "id": "8rFB--6rZNHk",
        "colab_type": "text"
      },
      "source": [
        "The argument num_words=10000 means you’ll only keep the top 10,000 most fre-\n",
        "quently occurring words in the training data. Rare words will be discarded. This allows\n",
        "you to work with vector data of manageable size."
      ]
    },
    {
      "cell_type": "markdown",
      "metadata": {
        "id": "POZo88GDZNHl",
        "colab_type": "text"
      },
      "source": [
        "###### word indices (encoding a sequence of words). train_labels and test_labels are\n",
        "###### lists of 0s and 1s, where 0 stands for negative and 1 stands for positive:"
      ]
    },
    {
      "cell_type": "code",
      "metadata": {
        "id": "Qkr_cdLeZNHm",
        "colab_type": "code",
        "outputId": "e9662e0d-dc50-4a18-de20-0b8004d702ef",
        "colab": {
          "base_uri": "https://localhost:8080/",
          "height": 34
        }
      },
      "source": [
        "train_data[0][1:5]"
      ],
      "execution_count": 0,
      "outputs": [
        {
          "output_type": "execute_result",
          "data": {
            "text/plain": [
              "[14, 22, 16, 43]"
            ]
          },
          "metadata": {
            "tags": []
          },
          "execution_count": 5
        }
      ]
    },
    {
      "cell_type": "code",
      "metadata": {
        "id": "EgNbazLqZNHq",
        "colab_type": "code",
        "outputId": "0b2f833f-4fa3-487a-e1e8-f2ff34b00168",
        "colab": {
          "base_uri": "https://localhost:8080/",
          "height": 34
        }
      },
      "source": [
        "#lists of 0s and 1s, where 0 stands for negative and 1 stands for positive\n",
        "train_labels[1:5]"
      ],
      "execution_count": 0,
      "outputs": [
        {
          "output_type": "execute_result",
          "data": {
            "text/plain": [
              "array([0, 0, 1, 0])"
            ]
          },
          "metadata": {
            "tags": []
          },
          "execution_count": 8
        }
      ]
    },
    {
      "cell_type": "markdown",
      "metadata": {
        "id": "6mKzoZLXZNHt",
        "colab_type": "text"
      },
      "source": [
        "Because you’re restricting yourself to the top 10,000 most frequent words, no word\n",
        "index will exceed 10,000:"
      ]
    },
    {
      "cell_type": "code",
      "metadata": {
        "id": "sGU2ycwSZNHu",
        "colab_type": "code",
        "outputId": "d6c76333-28a1-411d-c641-82d9ec15897b",
        "colab": {
          "base_uri": "https://localhost:8080/",
          "height": 34
        }
      },
      "source": [
        "max([max(sequence) for sequence in train_data])"
      ],
      "execution_count": 0,
      "outputs": [
        {
          "output_type": "execute_result",
          "data": {
            "text/plain": [
              "9999"
            ]
          },
          "metadata": {
            "tags": []
          },
          "execution_count": 9
        }
      ]
    },
    {
      "cell_type": "markdown",
      "metadata": {
        "id": "WInKZi9OZNHx",
        "colab_type": "text"
      },
      "source": [
        "For kicks, here’s how you can quickly decode one of these reviews back to English\n",
        "words:"
      ]
    },
    {
      "cell_type": "code",
      "metadata": {
        "id": "iAjeLt4gZNHy",
        "colab_type": "code",
        "outputId": "b6433043-d263-46db-d042-750c71c323db",
        "colab": {
          "base_uri": "https://localhost:8080/",
          "height": 51
        }
      },
      "source": [
        "#word_index is a dictionary mapping words to an integer index.\n",
        "word_index = imdb.get_word_index()\n",
        "#Reverses it, mapping integer indices to words\n",
        "reverse_word_index = dict([(value, key) for (key, value) in word_index.items()])\n",
        "#Decodes the review. \n",
        "#Note that the indices are offset by 3 because 0, 1, and 2 are reserved indices for “padding,” “start of sequence,” and “unknown.”\n",
        "decoded_review = ' '.join([reverse_word_index.get(i - 3, '?') for i in train_data[0]])"
      ],
      "execution_count": 0,
      "outputs": [
        {
          "output_type": "stream",
          "text": [
            "Downloading data from https://s3.amazonaws.com/text-datasets/imdb_word_index.json\n",
            "1646592/1641221 [==============================] - 1s 0us/step\n"
          ],
          "name": "stdout"
        }
      ]
    },
    {
      "cell_type": "markdown",
      "metadata": {
        "id": "LyqhaANUZNH0",
        "colab_type": "text"
      },
      "source": [
        "### Encoding the integer sequences into a binary matrix"
      ]
    },
    {
      "cell_type": "code",
      "metadata": {
        "id": "k5yW4qVEZNH1",
        "colab_type": "code",
        "colab": {}
      },
      "source": [
        "def vectorize_sequences(sequences, dimension = 10000):\n",
        "# Creates an all-zero matrix of shape (len(sequences), dimension)\n",
        "    results = np.zeros((len(sequences), dimension))\n",
        "    for i, sequence in enumerate(sequences):\n",
        "# Sets specific indices of results[i] to 1s\n",
        "        results[i, sequence] = 1.\n",
        "    return results"
      ],
      "execution_count": 0,
      "outputs": []
    },
    {
      "cell_type": "code",
      "metadata": {
        "id": "cYpkt1AWZNH3",
        "colab_type": "code",
        "colab": {}
      },
      "source": [
        "import numpy as np\n",
        "# Vectorized training data\n",
        "x_train = vectorize_sequences(train_data)\n",
        "# Vectorized test data\n",
        "x_test = vectorize_sequences(test_data)"
      ],
      "execution_count": 0,
      "outputs": []
    },
    {
      "cell_type": "code",
      "metadata": {
        "id": "xBQz4d3_ZNH7",
        "colab_type": "code",
        "outputId": "492b80b0-29de-4790-bc17-1b14b2792d45",
        "colab": {
          "base_uri": "https://localhost:8080/",
          "height": 51
        }
      },
      "source": [
        "# Shape of our train and test data after vectorizing\n",
        "print('Train Data is of shape:'+ str(x_train.shape))\n",
        "print('Test Data is of shape:'+ str(x_test.shape))"
      ],
      "execution_count": 0,
      "outputs": [
        {
          "output_type": "stream",
          "text": [
            "Train Data is of shape:(25000, 10000)\n",
            "Test Data is of shape:(25000, 10000)\n"
          ],
          "name": "stdout"
        }
      ]
    },
    {
      "cell_type": "markdown",
      "metadata": {
        "id": "eWeWOMQmZNH9",
        "colab_type": "text"
      },
      "source": [
        "#### vectorize labels, which is straightforward:"
      ]
    },
    {
      "cell_type": "code",
      "metadata": {
        "id": "pxxfhkrnZNH-",
        "colab_type": "code",
        "outputId": "ab1a0a9f-16c4-4279-d9f2-f6d63eb271f1",
        "colab": {
          "base_uri": "https://localhost:8080/",
          "height": 51
        }
      },
      "source": [
        "y_train = np.asarray(train_labels).astype('float32')\n",
        "y_test  = np.asarray(test_labels).astype('float32')\n",
        "# Shape of our train and test lables after vectorizing\n",
        "print('Train label is of shape:'+ str(y_train.shape))\n",
        "print('Test label is of shape:'+ str(y_test.shape))"
      ],
      "execution_count": 0,
      "outputs": [
        {
          "output_type": "stream",
          "text": [
            "Train label is of shape:(25000,)\n",
            "Test label is of shape:(25000,)\n"
          ],
          "name": "stdout"
        }
      ]
    },
    {
      "cell_type": "markdown",
      "metadata": {
        "id": "-CVUStJxZNIA",
        "colab_type": "text"
      },
      "source": [
        "Now the data is ready to be fed into a neural network:"
      ]
    },
    {
      "cell_type": "markdown",
      "metadata": {
        "id": "rcRyS77VZNIB",
        "colab_type": "text"
      },
      "source": [
        "### The model definition:"
      ]
    },
    {
      "cell_type": "code",
      "metadata": {
        "id": "0iekVX09ZNIB",
        "colab_type": "code",
        "outputId": "a24fc945-a3c8-42f8-e3fc-53c2fb25fe8c",
        "colab": {
          "base_uri": "https://localhost:8080/",
          "height": 88
        }
      },
      "source": [
        "import tensorflow as tf\n",
        "from tensorflow import keras\n",
        "from tensorflow.keras import layers\n",
        "from tensorflow.keras.models import Sequential\n",
        "\n",
        "model = tf.keras.Sequential()\n",
        "model.add(layers.Dense(512, activation = 'relu', input_shape = (10000,)))\n",
        "model.add(layers.Dense(10, activation = 'relu' ))\n",
        "model.add(layers.Dense(1, activation='sigmoid'))"
      ],
      "execution_count": 0,
      "outputs": [
        {
          "output_type": "stream",
          "text": [
            "WARNING:tensorflow:From /usr/local/lib/python3.6/dist-packages/tensorflow_core/python/ops/resource_variable_ops.py:1630: calling BaseResourceVariable.__init__ (from tensorflow.python.ops.resource_variable_ops) with constraint is deprecated and will be removed in a future version.\n",
            "Instructions for updating:\n",
            "If using Keras pass *_constraint arguments to layers.\n"
          ],
          "name": "stdout"
        }
      ]
    },
    {
      "cell_type": "markdown",
      "metadata": {
        "id": "D3KUBl35ZNIE",
        "colab_type": "text"
      },
      "source": [
        "### Compiling the model: you need to choose a loss function and an optimizer"
      ]
    },
    {
      "cell_type": "code",
      "metadata": {
        "id": "UgFhDRQvZNIE",
        "colab_type": "code",
        "outputId": "0ced118a-6c53-4a9a-ac11-b326a85d0ff1",
        "colab": {
          "base_uri": "https://localhost:8080/",
          "height": 68
        }
      },
      "source": [
        "model.compile(optimizer='rmsprop',\n",
        "loss='binary_crossentropy',\n",
        "metrics=['accuracy'])"
      ],
      "execution_count": 0,
      "outputs": [
        {
          "output_type": "stream",
          "text": [
            "WARNING:tensorflow:From /usr/local/lib/python3.6/dist-packages/tensorflow_core/python/ops/nn_impl.py:183: where (from tensorflow.python.ops.array_ops) is deprecated and will be removed in a future version.\n",
            "Instructions for updating:\n",
            "Use tf.where in 2.0, which has the same broadcast rule as np.where\n"
          ],
          "name": "stdout"
        }
      ]
    },
    {
      "cell_type": "markdown",
      "metadata": {
        "id": "3xpwn8QcZNIG",
        "colab_type": "text"
      },
      "source": [
        "### Configuring the optimizer"
      ]
    },
    {
      "cell_type": "code",
      "metadata": {
        "id": "uCwn4WqfZNIH",
        "colab_type": "code",
        "colab": {}
      },
      "source": [
        "from tensorflow.keras import optimizers\n",
        "model.compile(optimizer=optimizers.RMSprop(lr=0.001),\n",
        "loss='binary_crossentropy',\n",
        "metrics=['accuracy'])"
      ],
      "execution_count": 0,
      "outputs": []
    },
    {
      "cell_type": "markdown",
      "metadata": {
        "id": "r-MDYjD2ZNIJ",
        "colab_type": "text"
      },
      "source": [
        "### Using custom losses and metrics"
      ]
    },
    {
      "cell_type": "code",
      "metadata": {
        "id": "8shP8YyLZNIK",
        "colab_type": "code",
        "colab": {}
      },
      "source": [
        "from tensorflow.keras import losses\n",
        "from tensorflow.keras import metrics\n",
        "\n",
        "model.compile(optimizer=optimizers.RMSprop(lr=0.001),\n",
        "loss=losses.binary_crossentropy,\n",
        "metrics=[metrics.binary_accuracy])"
      ],
      "execution_count": 0,
      "outputs": []
    },
    {
      "cell_type": "markdown",
      "metadata": {
        "id": "cFY2afynZNIM",
        "colab_type": "text"
      },
      "source": [
        "### Setting aside a validation set"
      ]
    },
    {
      "cell_type": "code",
      "metadata": {
        "id": "vYqTzCxbZNIN",
        "colab_type": "code",
        "colab": {}
      },
      "source": [
        "x_val = x_train[:10000]\n",
        "partial_x_train = x_train[10000:]\n",
        "y_val = y_train[:10000]\n",
        "partial_y_train = y_train[10000:]"
      ],
      "execution_count": 0,
      "outputs": []
    },
    {
      "cell_type": "markdown",
      "metadata": {
        "id": "ksG39DooZNIP",
        "colab_type": "text"
      },
      "source": [
        "### Training  model"
      ]
    },
    {
      "cell_type": "code",
      "metadata": {
        "id": "03Y6Su1ZZNIQ",
        "colab_type": "code",
        "outputId": "386be78f-07e5-48f2-b480-8fcb1df25b15",
        "colab": {
          "base_uri": "https://localhost:8080/",
          "height": 714
        }
      },
      "source": [
        "model.compile(optimizer='rmsprop',\n",
        "              loss='binary_crossentropy',\n",
        "              metrics=['acc'])\n",
        "history = model.fit(partial_x_train,\n",
        "                    partial_y_train,\n",
        "                    epochs=20,\n",
        "                    batch_size=512,\n",
        "                    validation_data=(x_val, y_val))"
      ],
      "execution_count": 0,
      "outputs": [
        {
          "output_type": "stream",
          "text": [
            "Train on 15000 samples, validate on 10000 samples\n",
            "Epoch 1/20\n",
            "15000/15000 [==============================] - 7s 480us/sample - loss: 0.3254 - acc: 0.8752 - val_loss: 0.2969 - val_acc: 0.8772\n",
            "Epoch 2/20\n",
            "15000/15000 [==============================] - 7s 466us/sample - loss: 0.1939 - acc: 0.9231 - val_loss: 0.2883 - val_acc: 0.8853\n",
            "Epoch 3/20\n",
            "15000/15000 [==============================] - 7s 462us/sample - loss: 0.1386 - acc: 0.9467 - val_loss: 0.3244 - val_acc: 0.8752\n",
            "Epoch 4/20\n",
            "15000/15000 [==============================] - 7s 461us/sample - loss: 0.0815 - acc: 0.9711 - val_loss: 0.5004 - val_acc: 0.8326\n",
            "Epoch 5/20\n",
            "15000/15000 [==============================] - 7s 455us/sample - loss: 0.0674 - acc: 0.9785 - val_loss: 0.3667 - val_acc: 0.8823\n",
            "Epoch 6/20\n",
            "15000/15000 [==============================] - 7s 451us/sample - loss: 0.0203 - acc: 0.9959 - val_loss: 0.4745 - val_acc: 0.8803\n",
            "Epoch 7/20\n",
            "15000/15000 [==============================] - 7s 449us/sample - loss: 0.0578 - acc: 0.9843 - val_loss: 0.4579 - val_acc: 0.8822\n",
            "Epoch 8/20\n",
            "15000/15000 [==============================] - 7s 443us/sample - loss: 0.0053 - acc: 0.9997 - val_loss: 0.5359 - val_acc: 0.8808\n",
            "Epoch 9/20\n",
            "15000/15000 [==============================] - 7s 448us/sample - loss: 0.0570 - acc: 0.9873 - val_loss: 0.5477 - val_acc: 0.8798\n",
            "Epoch 10/20\n",
            "15000/15000 [==============================] - 7s 444us/sample - loss: 0.0022 - acc: 0.9999 - val_loss: 0.5624 - val_acc: 0.8819\n",
            "Epoch 11/20\n",
            "15000/15000 [==============================] - 7s 439us/sample - loss: 0.0010 - acc: 0.9999 - val_loss: 0.6358 - val_acc: 0.8822\n",
            "Epoch 12/20\n",
            "15000/15000 [==============================] - 7s 440us/sample - loss: 4.7522e-04 - acc: 1.0000 - val_loss: 0.7103 - val_acc: 0.8796\n",
            "Epoch 13/20\n",
            "15000/15000 [==============================] - 7s 442us/sample - loss: 0.0968 - acc: 0.9855 - val_loss: 0.7212 - val_acc: 0.8769\n",
            "Epoch 14/20\n",
            "15000/15000 [==============================] - 7s 440us/sample - loss: 1.9198e-04 - acc: 1.0000 - val_loss: 0.7185 - val_acc: 0.8786\n",
            "Epoch 15/20\n",
            "15000/15000 [==============================] - 7s 443us/sample - loss: 1.2065e-04 - acc: 1.0000 - val_loss: 0.7421 - val_acc: 0.8779\n",
            "Epoch 16/20\n",
            "15000/15000 [==============================] - 7s 444us/sample - loss: 8.4048e-05 - acc: 1.0000 - val_loss: 0.7846 - val_acc: 0.8785\n",
            "Epoch 17/20\n",
            "15000/15000 [==============================] - 7s 439us/sample - loss: 4.7905e-05 - acc: 1.0000 - val_loss: 0.8509 - val_acc: 0.8788\n",
            "Epoch 18/20\n",
            "15000/15000 [==============================] - 7s 444us/sample - loss: 2.2240e-05 - acc: 1.0000 - val_loss: 0.9240 - val_acc: 0.8782\n",
            "Epoch 19/20\n",
            "15000/15000 [==============================] - 7s 440us/sample - loss: 8.1051e-06 - acc: 1.0000 - val_loss: 1.0352 - val_acc: 0.8778\n",
            "Epoch 20/20\n",
            "15000/15000 [==============================] - 7s 434us/sample - loss: 0.0751 - acc: 0.9897 - val_loss: 0.9222 - val_acc: 0.8780\n"
          ],
          "name": "stdout"
        }
      ]
    },
    {
      "cell_type": "markdown",
      "metadata": {
        "id": "bigFBFuibnuQ",
        "colab_type": "text"
      },
      "source": [
        "the call to model.fit() returns a History object. This object has a member history , which is a dictionary containing data about everything that happened\n",
        "during training."
      ]
    },
    {
      "cell_type": "code",
      "metadata": {
        "id": "pK4i8aK-bs1D",
        "colab_type": "code",
        "outputId": "b7f44473-05a1-4290-f132-19486b6ae34a",
        "colab": {
          "base_uri": "https://localhost:8080/",
          "height": 34
        }
      },
      "source": [
        "history_dict = history.history\n",
        "history_dict.keys()"
      ],
      "execution_count": 0,
      "outputs": [
        {
          "output_type": "execute_result",
          "data": {
            "text/plain": [
              "dict_keys(['loss', 'acc', 'val_loss', 'val_acc'])"
            ]
          },
          "metadata": {
            "tags": []
          },
          "execution_count": 23
        }
      ]
    },
    {
      "cell_type": "markdown",
      "metadata": {
        "id": "QQS7iRgdbZKO",
        "colab_type": "text"
      },
      "source": [
        "### Plotting the training and validation loss"
      ]
    },
    {
      "cell_type": "code",
      "metadata": {
        "id": "3jdORQDvZNIS",
        "colab_type": "code",
        "outputId": "08f35670-f2ad-4850-e63d-7aaa12da3f44",
        "colab": {
          "base_uri": "https://localhost:8080/",
          "height": 295
        }
      },
      "source": [
        "import matplotlib.pyplot as plt\n",
        "history_dict = history.history\n",
        "loss_values = history_dict['loss']\n",
        "val_loss_values = history_dict['val_loss']\n",
        "acc = history_dict['acc']\n",
        "epochs = range(1, len(acc) + 1)\n",
        "#“bo” is for “blue dot.”\n",
        "plt.plot(epochs, loss_values, 'bo', label='Training loss')\n",
        "#“b” is for “solid blue line.”\n",
        "plt.plot(epochs, val_loss_values, 'b', label='Validation loss')\n",
        "plt.title('Training and validation loss')\n",
        "plt.xlabel('Epochs')\n",
        "plt.ylabel('Loss')\n",
        "plt.legend()\n",
        "plt.show()"
      ],
      "execution_count": 0,
      "outputs": [
        {
          "output_type": "display_data",
          "data": {
            "image/png": "[encoded data removed]",
            "text/plain": [
              "<Figure size 432x288 with 1 Axes>"
            ]
          },
          "metadata": {
            "tags": []
          }
        }
      ]
    },
    {
      "cell_type": "markdown",
      "metadata": {
        "id": "ZHcZRS5gcUlN",
        "colab_type": "text"
      },
      "source": [
        "### Plotting the training and validation accuracy"
      ]
    },
    {
      "cell_type": "code",
      "metadata": {
        "id": "1i3kjMf8bx01",
        "colab_type": "code",
        "outputId": "430c4e94-cc20-4f1a-e116-503dc2c96042",
        "colab": {
          "base_uri": "https://localhost:8080/",
          "height": 295
        }
      },
      "source": [
        "#Clears the figure\n",
        "plt.clf()\n",
        "acc_values = history_dict['acc']\n",
        "val_acc = history_dict['val_acc']\n",
        "plt.plot(epochs, acc, 'bo', label='Training acc')\n",
        "plt.plot(epochs, val_acc, 'b', label='Validation acc')\n",
        "plt.title('Training and validation accuracy')\n",
        "plt.xlabel('Epochs')\n",
        "plt.ylabel('Loss')\n",
        "plt.legend()\n",
        "plt.show()"
      ],
      "execution_count": 0,
      "outputs": [
        {
          "output_type": "display_data",
          "data": {
            "image/png": "[encoded data removed]",
            "text/plain": [
              "<Figure size 432x288 with 1 Axes>"
            ]
          },
          "metadata": {
            "tags": []
          }
        }
      ]
    },
    {
      "cell_type": "markdown",
      "metadata": {
        "id": "IBseKz3wctID",
        "colab_type": "text"
      },
      "source": [
        "### Retraining a model from scratch"
      ]
    },
    {
      "cell_type": "code",
      "metadata": {
        "id": "OqmLUMoWcdbv",
        "colab_type": "code",
        "outputId": "48ae6af5-92c1-4b73-d258-430e236c5294",
        "colab": {
          "base_uri": "https://localhost:8080/",
          "height": 187
        }
      },
      "source": [
        "model = tf.keras.Sequential()\n",
        "model.add(layers.Dense(16, activation='relu', input_shape=(10000,)))\n",
        "model.add(layers.Dense(16, activation='relu'))\n",
        "model.add(layers.Dense(1, activation='sigmoid'))\n",
        "model.compile(optimizer='rmsprop',\n",
        "loss='binary_crossentropy',\n",
        "metrics=['accuracy'])\n",
        "model.fit(x_train, y_train, epochs=4, batch_size=512)\n",
        "#The final results are as follows:\n",
        "results = model.evaluate(x_test, y_test)"
      ],
      "execution_count": 0,
      "outputs": [
        {
          "output_type": "stream",
          "text": [
            "Train on 25000 samples\n",
            "Epoch 1/4\n",
            "25000/25000 [==============================] - 3s 134us/sample - loss: 0.4530 - acc: 0.8246\n",
            "Epoch 2/4\n",
            "25000/25000 [==============================] - 2s 75us/sample - loss: 0.2625 - acc: 0.9098\n",
            "Epoch 3/4\n",
            "25000/25000 [==============================] - 2s 76us/sample - loss: 0.2044 - acc: 0.9292\n",
            "Epoch 4/4\n",
            "25000/25000 [==============================] - 2s 75us/sample - loss: 0.1690 - acc: 0.9408\n",
            "25000/25000 [==============================] - 2s 91us/sample - loss: 0.2925 - acc: 0.8846\n"
          ],
          "name": "stdout"
        }
      ]
    },
    {
      "cell_type": "code",
      "metadata": {
        "id": "A5SafBXVcyon",
        "colab_type": "code",
        "outputId": "1d55c572-5579-4baf-d822-61fc8e5fc690",
        "colab": {
          "base_uri": "https://localhost:8080/",
          "height": 34
        }
      },
      "source": [
        "#The final results are as follows:\n",
        "print('Accuracy: '+str(results[1]))"
      ],
      "execution_count": 0,
      "outputs": [
        {
          "output_type": "stream",
          "text": [
            "Accuracy: 0.88456\n"
          ],
          "name": "stdout"
        }
      ]
    },
    {
      "cell_type": "code",
      "metadata": {
        "id": "U4hVdBGYdWPo",
        "colab_type": "code",
        "outputId": "8e4c15b0-6c81-4d90-878c-d6098310df14",
        "colab": {
          "base_uri": "https://localhost:8080/",
          "height": 136
        }
      },
      "source": [
        "#After having trained a network, you’ll want to use it in a practical setting. You can generate the likelihood of reviews being positive by using the predict method:\n",
        "model.predict(x_test)"
      ],
      "execution_count": 0,
      "outputs": [
        {
          "output_type": "execute_result",
          "data": {
            "text/plain": [
              "array([[0.22333229],\n",
              "       [0.99930346],\n",
              "       [0.9615973 ],\n",
              "       ...,\n",
              "       [0.13239264],\n",
              "       [0.0911991 ],\n",
              "       [0.77522427]], dtype=float32)"
            ]
          },
          "metadata": {
            "tags": []
          },
          "execution_count": 34
        }
      ]
    },
    {
      "cell_type": "code",
      "metadata": {
        "id": "IaY7g92GdzKX",
        "colab_type": "code",
        "colab": {}
      },
      "source": [
        ""
      ],
      "execution_count": 0,
      "outputs": []
    }
  ]
}